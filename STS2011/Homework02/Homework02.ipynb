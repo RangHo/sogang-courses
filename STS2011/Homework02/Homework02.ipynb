{
 "cells": [
  {
   "cell_type": "markdown",
   "id": "98680fca",
   "metadata": {},
   "source": [
    "# 과제 2\n",
    "\n",
    "입력받은 문장을 아래와 같이 거꾸로 출력하는 파이썬 프로그램 `inverseIn.py`를 magic command를 이용해서 만들어 실행시키시오.\n",
    "\n",
    "## 입력\n",
    "\n",
    "Jupyter 인터페이스 내에서 임의의 문자열을 입력받는다.\n",
    "\n",
    "## 출력\n",
    "\n",
    "입력받은 문자열을 한 줄에 한 글자씩, 역순으로 늘어나도록 출력한다.\n",
    "\n",
    "## 예시\n",
    "\n",
    "Jupyter 노트북에서 아래 문자열을 입력하면...\n",
    "\n",
    "```\n",
    "Sogang University\n",
    "```\n",
    "\n",
    "아래 내용이 출력되어야 한다.\n",
    "\n",
    "```\n",
    "S\n",
    "oS\n",
    "goS\n",
    "agoS\n",
    "nagoS\n",
    "gnagoS\n",
    " gnagoS\n",
    "U gnagoS\n",
    "nU gnagoS\n",
    "inU gnagoS\n",
    "vinU gnagoS\n",
    "evinU gnagoS\n",
    "revinU gnagoS\n",
    "srevinU gnagoS\n",
    "isrevinU gnagoS\n",
    "tisrevinU gnagoS\n",
    "ytisrevinU gnagoS\n",
    "```"
   ]
  },
  {
   "cell_type": "code",
   "execution_count": 1,
   "id": "7a8a2cea",
   "metadata": {},
   "outputs": [
    {
     "name": "stdout",
     "output_type": "stream",
     "text": [
      "Writing inverseIn.py\n"
     ]
    }
   ],
   "source": [
    "%%writefile inverseIn.py\n",
    "\n",
    "s = input(\"Input :\")\n",
    "\n",
    "print()\n",
    "p = \"\"\n",
    "for c in s:\n",
    "    p = c + p\n",
    "    print(p)"
   ]
  },
  {
   "cell_type": "code",
   "execution_count": 2,
   "id": "52aa6096",
   "metadata": {},
   "outputs": [
    {
     "name": "stdout",
     "output_type": "stream",
     "text": [
      "Input :Sogang University\n",
      "\n",
      "S\n",
      "oS\n",
      "goS\n",
      "agoS\n",
      "nagoS\n",
      "gnagoS\n",
      " gnagoS\n",
      "U gnagoS\n",
      "nU gnagoS\n",
      "inU gnagoS\n",
      "vinU gnagoS\n",
      "evinU gnagoS\n",
      "revinU gnagoS\n",
      "srevinU gnagoS\n",
      "isrevinU gnagoS\n",
      "tisrevinU gnagoS\n",
      "ytisrevinU gnagoS\n"
     ]
    }
   ],
   "source": [
    "%run inverseIn.py"
   ]
  }
 ],
 "metadata": {
  "kernelspec": {
   "display_name": "Python 3 (ipykernel)",
   "language": "python",
   "name": "python3"
  },
  "language_info": {
   "codemirror_mode": {
    "name": "ipython",
    "version": 3
   },
   "file_extension": ".py",
   "mimetype": "text/x-python",
   "name": "python",
   "nbconvert_exporter": "python",
   "pygments_lexer": "ipython3",
   "version": "3.11.5"
  }
 },
 "nbformat": 4,
 "nbformat_minor": 5
}
