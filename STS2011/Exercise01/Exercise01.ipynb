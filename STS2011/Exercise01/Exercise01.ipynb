{
 "cells": [
  {
   "cell_type": "markdown",
   "id": "5b320ee8",
   "metadata": {},
   "source": [
    "# 실습과제 1\n",
    "\n",
    "`N`번째까지의 피보나치 수를 구하는 함수 `Fibo_func(N)`를 `yield`를 이용해서 구현하시오. 해당 함수를 `import`하여 함수 호출로 해결하세요.\n",
    "\n",
    "## 예시\n",
    "\n",
    "`Fibo_func` 함수가 `Fibonacci1.py` 파일에 정의되어 있을 때, 아래 코드를 실행하면 0번째부터 10번째까지 피보나치 수를 출력한다.\n",
    "\n",
    "```python\n",
    "import Fibonacci1\n",
    "\n",
    "fib = Fibonacci1.Fibo_func(10)\n",
    "for i in fib:\n",
    "    print(i)\n",
    "```"
   ]
  },
  {
   "cell_type": "code",
   "execution_count": 1,
   "id": "b7df70fe",
   "metadata": {
    "scrolled": true
   },
   "outputs": [
    {
     "name": "stdout",
     "output_type": "stream",
     "text": [
      "Writing Fibonacci1.py\n"
     ]
    }
   ],
   "source": [
    "%%writefile Fibonacci1.py\n",
    "\n",
    "from typing import Generator # for type hints\n",
    "\n",
    "def Fibo_func(n: int) -> Generator[int, None, None]:\n",
    "    \"\"\"Create a Fibonacci sequence generator, up to nth entry.\n",
    "    \n",
    "    :param n: Number of Fibonacci numbers to generate.\n",
    "    \"\"\"\n",
    "    prev, curr = 0, 1\n",
    "    for _ in range(n + 1): # [0, n], inclusive\n",
    "        yield prev\n",
    "        prev, curr = curr, prev + curr"
   ]
  },
  {
   "cell_type": "code",
   "execution_count": 2,
   "id": "86962f09",
   "metadata": {},
   "outputs": [],
   "source": [
    "import Fibonacci1"
   ]
  },
  {
   "cell_type": "code",
   "execution_count": 3,
   "id": "8c367970",
   "metadata": {},
   "outputs": [
    {
     "name": "stdout",
     "output_type": "stream",
     "text": [
      "0\n",
      "1\n",
      "1\n",
      "2\n",
      "3\n",
      "5\n",
      "8\n",
      "13\n",
      "21\n",
      "34\n",
      "55\n"
     ]
    }
   ],
   "source": [
    "fib = Fibonacci1.Fibo_func(10)\n",
    "for i in fib:\n",
    "    print(i)"
   ]
  }
 ],
 "metadata": {
  "kernelspec": {
   "display_name": "Python 3 (ipykernel)",
   "language": "python",
   "name": "python3"
  },
  "language_info": {
   "codemirror_mode": {
    "name": "ipython",
    "version": 3
   },
   "file_extension": ".py",
   "mimetype": "text/x-python",
   "name": "python",
   "nbconvert_exporter": "python",
   "pygments_lexer": "ipython3",
   "version": "3.11.5"
  }
 },
 "nbformat": 4,
 "nbformat_minor": 5
}
