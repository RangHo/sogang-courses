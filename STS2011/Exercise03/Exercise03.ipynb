{
 "cells": [
  {
   "cell_type": "markdown",
   "id": "47c98dd5",
   "metadata": {},
   "source": [
    "# 실습과제 3\n",
    "\n",
    "두 수의 사칙연산을 구현하는 클래스 `FourCal`을 구현하시오.\n",
    "해당 클래스는 아래 메서드를 구현해야 한다.\n",
    "\n",
    "- `sum`: 두 수의 합을 구하여 반환한다.\n",
    "- `sub`: 두 수의 차를 구하여 반환한다.\n",
    "- `mul`: 두 수의 곱을 구하여 반환한다.\n",
    "- `div`: 두 수를 나눈 값을 구하여 반환한다.\n",
    "\n",
    "## 예시\n",
    "\n",
    "```python\n",
    "a = FourCal(4, 2)\n",
    "\n",
    "a.sum() # -> 6\n",
    "a.sub() # -> 2\n",
    "a.mul() # -> 8\n",
    "a.div() # -> 2.0\n",
    "\n",
    "b = FourCal(3, 7)\n",
    "\n",
    "b.sum() # -> 10\n",
    "b.sub() # -> -4\n",
    "b.mul() # -> 21\n",
    "b.div() # -> 0.42857142857142855\n",
    "```"
   ]
  },
  {
   "cell_type": "code",
   "execution_count": 1,
   "id": "2111b14b",
   "metadata": {},
   "outputs": [],
   "source": [
    "class FourCal:\n",
    "    def __init__(self, lhs, rhs):\n",
    "        self.lhs = lhs\n",
    "        self.rhs = rhs\n",
    "    \n",
    "    def sum(self):\n",
    "        return self.lhs + self.rhs\n",
    "    \n",
    "    def sub(self):\n",
    "        return self.lhs - self.rhs\n",
    "    \n",
    "    def mul(self):\n",
    "        return self.lhs * self.rhs\n",
    "    \n",
    "    def div(self):\n",
    "        return self.lhs / self.rhs"
   ]
  },
  {
   "cell_type": "code",
   "execution_count": 2,
   "id": "0fed9f92",
   "metadata": {},
   "outputs": [],
   "source": [
    "a = FourCal(4, 2)\n",
    "b = FourCal(3, 7)"
   ]
  },
  {
   "cell_type": "code",
   "execution_count": 3,
   "id": "8ec382cb",
   "metadata": {},
   "outputs": [
    {
     "data": {
      "text/plain": [
       "6"
      ]
     },
     "execution_count": 3,
     "metadata": {},
     "output_type": "execute_result"
    }
   ],
   "source": [
    "a.sum()"
   ]
  },
  {
   "cell_type": "code",
   "execution_count": 4,
   "id": "2b355b48",
   "metadata": {},
   "outputs": [
    {
     "data": {
      "text/plain": [
       "2"
      ]
     },
     "execution_count": 4,
     "metadata": {},
     "output_type": "execute_result"
    }
   ],
   "source": [
    "a.sub()"
   ]
  },
  {
   "cell_type": "code",
   "execution_count": 5,
   "id": "a9286d7f",
   "metadata": {},
   "outputs": [
    {
     "data": {
      "text/plain": [
       "8"
      ]
     },
     "execution_count": 5,
     "metadata": {},
     "output_type": "execute_result"
    }
   ],
   "source": [
    "a.mul()"
   ]
  },
  {
   "cell_type": "code",
   "execution_count": 6,
   "id": "944df080",
   "metadata": {},
   "outputs": [
    {
     "data": {
      "text/plain": [
       "2.0"
      ]
     },
     "execution_count": 6,
     "metadata": {},
     "output_type": "execute_result"
    }
   ],
   "source": [
    "a.div()"
   ]
  },
  {
   "cell_type": "code",
   "execution_count": 7,
   "id": "7015fd32",
   "metadata": {},
   "outputs": [
    {
     "data": {
      "text/plain": [
       "10"
      ]
     },
     "execution_count": 7,
     "metadata": {},
     "output_type": "execute_result"
    }
   ],
   "source": [
    "b.sum()"
   ]
  },
  {
   "cell_type": "code",
   "execution_count": 8,
   "id": "9bc30de8",
   "metadata": {},
   "outputs": [
    {
     "data": {
      "text/plain": [
       "-4"
      ]
     },
     "execution_count": 8,
     "metadata": {},
     "output_type": "execute_result"
    }
   ],
   "source": [
    "b.sub()"
   ]
  },
  {
   "cell_type": "code",
   "execution_count": 9,
   "id": "d2cbd923",
   "metadata": {},
   "outputs": [
    {
     "data": {
      "text/plain": [
       "21"
      ]
     },
     "execution_count": 9,
     "metadata": {},
     "output_type": "execute_result"
    }
   ],
   "source": [
    "b.mul()"
   ]
  },
  {
   "cell_type": "code",
   "execution_count": 10,
   "id": "3f2c9a59",
   "metadata": {},
   "outputs": [
    {
     "data": {
      "text/plain": [
       "0.42857142857142855"
      ]
     },
     "execution_count": 10,
     "metadata": {},
     "output_type": "execute_result"
    }
   ],
   "source": [
    "b.div()"
   ]
  }
 ],
 "metadata": {
  "kernelspec": {
   "display_name": "Python 3 (ipykernel)",
   "language": "python",
   "name": "python3"
  },
  "language_info": {
   "codemirror_mode": {
    "name": "ipython",
    "version": 3
   },
   "file_extension": ".py",
   "mimetype": "text/x-python",
   "name": "python",
   "nbconvert_exporter": "python",
   "pygments_lexer": "ipython3",
   "version": "3.11.5"
  }
 },
 "nbformat": 4,
 "nbformat_minor": 5
}
