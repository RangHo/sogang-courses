{
 "cells": [
  {
   "cell_type": "markdown",
   "id": "af85038d",
   "metadata": {},
   "source": [
    "# 문제 1. 실행 결과 예측 (1)\n",
    "\n",
    "아래 script 실행 결과를 적으시오."
   ]
  },
  {
   "cell_type": "code",
   "execution_count": 1,
   "id": "bfb757c7",
   "metadata": {},
   "outputs": [
    {
     "name": "stdout",
     "output_type": "stream",
     "text": [
      "False\n",
      "[1, 2, [1, 3, 3]]\n",
      "[1, 2, [1, 3, 3]]\n"
     ]
    }
   ],
   "source": [
    "import copy\n",
    "x = [1, 2, 3]\n",
    "L1 = [1, 2, x]\n",
    "L2 = L1[:]\n",
    "print(id(L1) == id(L2))\n",
    "L1[2][1] = 3\n",
    "print(L1)\n",
    "print(L2)"
   ]
  },
  {
   "cell_type": "markdown",
   "id": "e24c6f01",
   "metadata": {},
   "source": [
    "## 해설"
   ]
  }
 ],
 "metadata": {
  "kernelspec": {
   "display_name": "Python 3 (ipykernel)",
   "language": "python",
   "name": "python3"
  },
  "language_info": {
   "codemirror_mode": {
    "name": "ipython",
    "version": 3
   },
   "file_extension": ".py",
   "mimetype": "text/x-python",
   "name": "python",
   "nbconvert_exporter": "python",
   "pygments_lexer": "ipython3",
   "version": "3.11.5"
  }
 },
 "nbformat": 4,
 "nbformat_minor": 5
}
