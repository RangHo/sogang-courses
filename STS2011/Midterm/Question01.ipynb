{
 "cells": [
  {
   "cell_type": "markdown",
   "id": "af85038d",
   "metadata": {},
   "source": [
    "# 문제 1. 실행 결과 예측 (1)\n",
    "\n",
    "아래 script 실행 결과를 적으시오."
   ]
  },
  {
   "cell_type": "code",
   "execution_count": 1,
   "id": "bfb757c7",
   "metadata": {},
   "outputs": [
    {
     "name": "stdout",
     "output_type": "stream",
     "text": [
      "False\n",
      "[1, 2, [1, 3, 3]]\n",
      "[1, 2, [1, 3, 3]]\n"
     ]
    }
   ],
   "source": [
    "import copy\n",
    "x = [1, 2, 3]\n",
    "L1 = [1, 2, x]\n",
    "L2 = L1[:]\n",
    "print(id(L1) == id(L2))\n",
    "L1[2][1] = 3\n",
    "print(L1)\n",
    "print(L2)"
   ]
  },
  {
   "cell_type": "markdown",
   "id": "e24c6f01",
   "metadata": {},
   "source": [
    "## 해설\n",
    "\n",
    "Python에서 리스트 슬라이스 연산은 원본 리스트와 같은 내용을 갖는 새로운 리스트를 만드는 연산입니다.\n",
    "따라서, `L2 = L1[:]`을 실행하면 `L2`가 가리키는 리스트는 엄밀히 말하면 `L1`과 다른 리스트입니다.\n",
    "즉, `id` 함수를 사용하면 두 리스트가 서로 다른 리스트라는 것을 확인할 수 있습니다.\n",
    "\n",
    "`L1`과 `L2` 모두 `1`, `2`, `x`를 원소로 가지고 있는데, 두 리스트 모두 같은 `x`를 가리키고 있다는 점이 중요합니다.\n",
    "그러므로 `L1[2][1] = 3`을 실행하면 `x` 변수가 참조하는 리스트의 내용이 바뀌게 되고, 곧 `L2`를 출력해도 `L1`과 같은 값이 나오게 됩니다."
   ]
  }
 ],
 "metadata": {
  "kernelspec": {
   "display_name": "Python 3 (ipykernel)",
   "language": "python",
   "name": "python3"
  },
  "language_info": {
   "codemirror_mode": {
    "name": "ipython",
    "version": 3
   },
   "file_extension": ".py",
   "mimetype": "text/x-python",
   "name": "python",
   "nbconvert_exporter": "python",
   "pygments_lexer": "ipython3",
   "version": "3.11.5"
  }
 },
 "nbformat": 4,
 "nbformat_minor": 5
}
