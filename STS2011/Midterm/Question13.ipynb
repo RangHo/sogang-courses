{
 "cells": [
  {
   "cell_type": "markdown",
   "id": "dc123e7a",
   "metadata": {},
   "source": [
    "# 문제 13. 제너레이터 함수 실습\n",
    "\n",
    "아래 실행 예와 같이 입력을 거꾸로 출력하는 코드를 `yield`를 사용하여 작성하시오.\n",
    "\n",
    "```\n",
    "input:SogangUniv\n",
    "S\n",
    "oS\n",
    "goS\n",
    "agoS\n",
    "nagoS\n",
    "gnagoS\n",
    "UgnagoS\n",
    "nUgnagoS\n",
    "inUgnagoS\n",
    "vinUgnagoS\n",
    "```"
   ]
  },
  {
   "cell_type": "code",
   "execution_count": 1,
   "id": "a67aa2fa",
   "metadata": {},
   "outputs": [
    {
     "name": "stdout",
     "output_type": "stream",
     "text": [
      "input:SogangUniv\n",
      "S\n",
      "oS\n",
      "goS\n",
      "agoS\n",
      "nagoS\n",
      "gnagoS\n",
      "UgnagoS\n",
      "nUgnagoS\n",
      "inUgnagoS\n",
      "vinUgnagoS\n"
     ]
    }
   ],
   "source": [
    "def reverse_generator(target):\n",
    "    for i in range(len(target)):\n",
    "        yield target[i::-1]\n",
    "\n",
    "\n",
    "target = input(\"input:\")\n",
    "for content in reverse_generator(target):\n",
    "    print(content)"
   ]
  },
  {
   "cell_type": "markdown",
   "id": "da809367",
   "metadata": {},
   "source": []
  }
 ],
 "metadata": {
  "kernelspec": {
   "display_name": "Python 3 (ipykernel)",
   "language": "python",
   "name": "python3"
  },
  "language_info": {
   "codemirror_mode": {
    "name": "ipython",
    "version": 3
   },
   "file_extension": ".py",
   "mimetype": "text/x-python",
   "name": "python",
   "nbconvert_exporter": "python",
   "pygments_lexer": "ipython3",
   "version": "3.11.5"
  }
 },
 "nbformat": 4,
 "nbformat_minor": 5
}
