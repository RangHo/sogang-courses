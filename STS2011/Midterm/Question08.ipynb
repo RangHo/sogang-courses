{
 "cells": [
  {
   "cell_type": "markdown",
   "id": "02fee4a1",
   "metadata": {},
   "source": [
    "# 문제 8. `for` 루프와 제너레이터 함수\n",
    "\n",
    "아래 script를 실행시켰을 때 화면에 나오는 결과를 적으시오."
   ]
  },
  {
   "cell_type": "code",
   "execution_count": 1,
   "id": "c99e298c",
   "metadata": {},
   "outputs": [
    {
     "name": "stdout",
     "output_type": "stream",
     "text": [
      "-8 || 0 || 8 || "
     ]
    },
    {
     "ename": "StopIteration",
     "evalue": "",
     "output_type": "error",
     "traceback": [
      "\u001b[0;31m---------------------------------------------------------------------------\u001b[0m",
      "\u001b[0;31mStopIteration\u001b[0m                             Traceback (most recent call last)",
      "Cell \u001b[0;32mIn[1], line 9\u001b[0m\n\u001b[1;32m      6\u001b[0m my_nums \u001b[38;5;241m=\u001b[39m cube_numbers([\u001b[38;5;241m-\u001b[39m\u001b[38;5;241m3\u001b[39m, \u001b[38;5;241m-\u001b[39m\u001b[38;5;241m2\u001b[39m, \u001b[38;5;241m-\u001b[39m\u001b[38;5;241m1\u001b[39m, \u001b[38;5;241m0\u001b[39m, \u001b[38;5;241m1\u001b[39m, \u001b[38;5;241m2\u001b[39m, \u001b[38;5;241m3\u001b[39m])\n\u001b[1;32m      8\u001b[0m \u001b[38;5;28;01mfor\u001b[39;00m i \u001b[38;5;129;01min\u001b[39;00m my_nums:\n\u001b[0;32m----> 9\u001b[0m     \u001b[38;5;28mprint\u001b[39m(\u001b[38;5;28mnext\u001b[39m(my_nums), end\u001b[38;5;241m=\u001b[39m\u001b[38;5;124m\"\u001b[39m\u001b[38;5;124m || \u001b[39m\u001b[38;5;124m\"\u001b[39m)\n",
      "\u001b[0;31mStopIteration\u001b[0m: "
     ]
    }
   ],
   "source": [
    "def cube_numbers(nums):\n",
    "    for i in nums:\n",
    "        yield i ** 3\n",
    "\n",
    "\n",
    "my_nums = cube_numbers([-3, -2, -1, 0, 1, 2, 3])\n",
    "\n",
    "for i in my_nums:\n",
    "    print(next(my_nums), end=\" || \")"
   ]
  },
  {
   "cell_type": "markdown",
   "id": "f88a3d57",
   "metadata": {},
   "source": [
    "## 해설\n",
    "\n",
    "Python 내부적으로 `for` 반복문은 주어진 오브젝트의 `__next__` 매직 함수를 실행시킨 값을 받아오는 방식으로 구현이 되어 있습니다.\n",
    "이는 해당 오브젝트를 `next` 내장 함수의 인자로 넣는 것과 같은 효과를 가집니다.\n",
    "\n",
    "마지막 `for` 반복문을 보면 `my_nums`가 `for` 반복문의 대상이면서, 반복문 내부에서 `next(my_nums)`를 호출하는 것을 볼 수 있습니다.\n",
    "즉, 매번 값을 받아올 때마다 다음 값을 두 번씩 받아온다고 해석할 수 있습니다.\n",
    "\n",
    "매 반복 시에 어떤 일이 일어나는지 살펴보겠습니다.\n",
    "\n",
    "1. 첫 번째 반복에서 `i`에 -27를 받아 오고 `-8`을 출력합니다.\n",
    "2. 두 번째 반복에서 `i`에 -1을 받아 오고 `0`을 출력합니다.\n",
    "3. 세 번째 반복에서 `i`에 8을 받아 오고 `8`을 출력합니다.\n",
    "4. 네 번째 반복에서 `i`에 27을 받아 오면 더 이상 남은 원소가 없으므로 `StopIteration` 예외가 발생합니다."
   ]
  }
 ],
 "metadata": {
  "kernelspec": {
   "display_name": "Python 3 (ipykernel)",
   "language": "python",
   "name": "python3"
  },
  "language_info": {
   "codemirror_mode": {
    "name": "ipython",
    "version": 3
   },
   "file_extension": ".py",
   "mimetype": "text/x-python",
   "name": "python",
   "nbconvert_exporter": "python",
   "pygments_lexer": "ipython3",
   "version": "3.11.5"
  }
 },
 "nbformat": 4,
 "nbformat_minor": 5
}
