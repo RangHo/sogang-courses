{
 "cells": [
  {
   "cell_type": "markdown",
   "id": "04903274",
   "metadata": {},
   "source": [
    "# 문제 7. 필요한 모듈 `import`\n",
    "\n",
    "아래와 같은 실행 결과를 얻기 위해, 다음 Python script의 `(    )` 안에 들어갈 구문을 적으시오.\n",
    "\n",
    "```python\n",
    "(                )\n",
    "pt1 = 22\n",
    "pt2 = 42\n",
    "pt3 = 52\n",
    "avg = (pt1 + pt2 + pt3) / 3\n",
    "print(\"average :\", round(avg))\n",
    "print(\"average :\", m.trunc(avg))\n",
    "\n",
    "\n",
    "# ---- Output ----\n",
    "# average : 39\n",
    "# average : 38\n",
    "```"
   ]
  },
  {
   "cell_type": "code",
   "execution_count": 1,
   "id": "ec56cb70",
   "metadata": {},
   "outputs": [
    {
     "name": "stdout",
     "output_type": "stream",
     "text": [
      "average : 39\n",
      "average : 38\n"
     ]
    }
   ],
   "source": [
    "import math as m\n",
    "\n",
    "pt1 = 22\n",
    "pt2 = 42\n",
    "pt3 = 52\n",
    "avg = (pt1 + pt2 + pt3) / 3\n",
    "print(\"average :\", round(avg))\n",
    "print(\"average :\", m.trunc(avg))"
   ]
  },
  {
   "cell_type": "markdown",
   "id": "adf55657",
   "metadata": {},
   "source": [
    "## 해설"
   ]
  }
 ],
 "metadata": {
  "kernelspec": {
   "display_name": "Python 3 (ipykernel)",
   "language": "python",
   "name": "python3"
  },
  "language_info": {
   "codemirror_mode": {
    "name": "ipython",
    "version": 3
   },
   "file_extension": ".py",
   "mimetype": "text/x-python",
   "name": "python",
   "nbconvert_exporter": "python",
   "pygments_lexer": "ipython3",
   "version": "3.11.5"
  }
 },
 "nbformat": 4,
 "nbformat_minor": 5
}
