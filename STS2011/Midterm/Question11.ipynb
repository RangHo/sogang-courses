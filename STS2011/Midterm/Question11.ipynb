{
 "cells": [
  {
   "cell_type": "markdown",
   "id": "f24cd623",
   "metadata": {},
   "source": [
    "# 문제 11. 상속받은 속성과 메서드\n",
    "\n",
    "아래 script를 실행시킨 결과를 적으시오."
   ]
  },
  {
   "cell_type": "code",
   "execution_count": 1,
   "id": "f24c70cb",
   "metadata": {},
   "outputs": [
    {
     "name": "stdout",
     "output_type": "stream",
     "text": [
      "8\n"
     ]
    }
   ],
   "source": [
    "class Times(object):\n",
    "    factor = 1\n",
    "\n",
    "    def mul(self, x):\n",
    "        return self.factor * x\n",
    "\n",
    "\n",
    "class TwoTimes(Times):\n",
    "    factor = 2\n",
    "\n",
    "\n",
    "x = TwoTimes()\n",
    "print(x.mul(4))"
   ]
  },
  {
   "cell_type": "markdown",
   "id": "54059f9f",
   "metadata": {},
   "source": []
  }
 ],
 "metadata": {
  "kernelspec": {
   "display_name": "Python 3 (ipykernel)",
   "language": "python",
   "name": "python3"
  },
  "language_info": {
   "codemirror_mode": {
    "name": "ipython",
    "version": 3
   },
   "file_extension": ".py",
   "mimetype": "text/x-python",
   "name": "python",
   "nbconvert_exporter": "python",
   "pygments_lexer": "ipython3",
   "version": "3.11.5"
  }
 },
 "nbformat": 4,
 "nbformat_minor": 5
}
