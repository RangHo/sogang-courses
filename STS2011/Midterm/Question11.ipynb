{
 "cells": [
  {
   "cell_type": "markdown",
   "id": "f24cd623",
   "metadata": {},
   "source": [
    "# 문제 11. 상속받은 속성과 메서드\n",
    "\n",
    "아래 script를 실행시킨 결과를 적으시오."
   ]
  },
  {
   "cell_type": "code",
   "execution_count": 1,
   "id": "f24c70cb",
   "metadata": {},
   "outputs": [
    {
     "name": "stdout",
     "output_type": "stream",
     "text": [
      "8\n"
     ]
    }
   ],
   "source": [
    "class Times(object):\n",
    "    factor = 1\n",
    "\n",
    "    def mul(self, x):\n",
    "        return self.factor * x\n",
    "\n",
    "\n",
    "class TwoTimes(Times):\n",
    "    factor = 2\n",
    "\n",
    "\n",
    "x = TwoTimes()\n",
    "print(x.mul(4))"
   ]
  },
  {
   "cell_type": "markdown",
   "id": "54059f9f",
   "metadata": {},
   "source": [
    "## 해설\n",
    "\n",
    "5번 문제와 비슷한 문제입니다.\n",
    "클래스 안에 정의된 변수는 인스턴스를 만들 때 인스턴스 안으로 복사되어 다른 메서드 안에서 `self.x`의 형태로 접근할 수 있습니다.\n",
    "\n",
    "`TwoTimes` 클래스는 `Times` 클래스로부터 상속을 받고 있으므로 `Times` 클래스의 `mul` 메서드도 상속받습니다.\n",
    "곧 `TwoTimes` 인스턴스의 `mul` 메서드에서 `self.factor`에 접근하면 `Times.factor`가 아니라 `TwoTimes.factor`에 접근하게 됩니다.\n",
    "따라서 `x.mul(4)`을 출력하면 `8`입니다."
   ]
  }
 ],
 "metadata": {
  "kernelspec": {
   "display_name": "Python 3 (ipykernel)",
   "language": "python",
   "name": "python3"
  },
  "language_info": {
   "codemirror_mode": {
    "name": "ipython",
    "version": 3
   },
   "file_extension": ".py",
   "mimetype": "text/x-python",
   "name": "python",
   "nbconvert_exporter": "python",
   "pygments_lexer": "ipython3",
   "version": "3.11.5"
  }
 },
 "nbformat": 4,
 "nbformat_minor": 5
}
