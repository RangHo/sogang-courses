{
 "cells": [
  {
   "cell_type": "markdown",
   "id": "73881891",
   "metadata": {},
   "source": [
    "# 문제 3. 상속 순서\n",
    "\n",
    "`Liger.__mro__`의 결과가 아래와 같을 때, 다음 프로그램의 실행 결과를 적으시오.\n",
    "\n",
    "```python\n",
    "(__main__.Liger, __main__.Tiger, __main__.Lion, __main__.Animal, object)\n",
    "```"
   ]
  },
  {
   "cell_type": "code",
   "execution_count": 1,
   "id": "1f0cb772",
   "metadata": {},
   "outputs": [
    {
     "name": "stdout",
     "output_type": "stream",
     "text": [
      "Animal 생성\n",
      "Lion 생성\n",
      "Tiger 생성\n",
      "Liger 생성\n",
      "어흥\n"
     ]
    }
   ],
   "source": [
    "class Animal:\n",
    "    def __init__(self):\n",
    "        print(\"Animal 생성\")\n",
    "\n",
    "\n",
    "class Tiger(Animal):\n",
    "    def __init__(self):\n",
    "        super().__init__()\n",
    "        print(\"Tiger 생성\")\n",
    "\n",
    "    def jump(self):\n",
    "        print(\"멀리 점프하기\")\n",
    "\n",
    "    def cry(self):\n",
    "        print(\"어흥\")\n",
    "\n",
    "\n",
    "class Lion(Animal):\n",
    "    def __init__(self):\n",
    "        super().__init__()\n",
    "        print(\"Lion 생성\")\n",
    "\n",
    "    def bite(self):\n",
    "        print(\"한입에 꿀꺽하기\")\n",
    "\n",
    "    def cry(self):\n",
    "        print(\"으르렁\")\n",
    "\n",
    "\n",
    "class Liger(Tiger, Lion):\n",
    "    def __init__(self):\n",
    "        super().__init__()\n",
    "        print(\"Liger 생성\")\n",
    "\n",
    "    def play(self):\n",
    "        print(\"사육사와 놀기\")\n",
    "\n",
    "\n",
    "m = Liger()\n",
    "m.cry()"
   ]
  },
  {
   "cell_type": "markdown",
   "id": "50404c08",
   "metadata": {},
   "source": [
    "## 해설\n",
    "\n",
    "어떤 클래스의 `__mro__`는 해당 클래스 인스턴스의 메서드 탐색 순서(method resolution order)를 정의합니다.\n",
    "이 순서는 이 경우, 클래스 상속 순서로 해석해도 무방합니다.\n",
    "\n",
    "`super().__init__()` 함수 호출은 클래스 상속 순서의 반대로 진행되므로, `Liger` 클래스의 인스턴스를 만들면 `object`, `Animal`, `Lion`, `Tiger`, `Liger` 순서로 초기화가 됩니다.\n",
    "\n",
    "`m.cry()`를 호출하면 먼저 `Liger`에서 메서드를 찾아보는데, 메서드가 없으니 다음 순서인 `Tiger`에서 찾습니다.\n",
    "그러므로 `m.cry()` 함수는 `어흥`을 출력합니다."
   ]
  }
 ],
 "metadata": {
  "kernelspec": {
   "display_name": "Python 3 (ipykernel)",
   "language": "python",
   "name": "python3"
  },
  "language_info": {
   "codemirror_mode": {
    "name": "ipython",
    "version": 3
   },
   "file_extension": ".py",
   "mimetype": "text/x-python",
   "name": "python",
   "nbconvert_exporter": "python",
   "pygments_lexer": "ipython3",
   "version": "3.11.5"
  }
 },
 "nbformat": 4,
 "nbformat_minor": 5
}
