{
 "cells": [
  {
   "cell_type": "markdown",
   "id": "b4648b73",
   "metadata": {},
   "source": [
    "# 문제 10. 클래스 \"메서드\"?\n",
    "\n",
    "아래 script를 실행시킨 결과를 적으시오."
   ]
  },
  {
   "cell_type": "code",
   "execution_count": 1,
   "id": "9120c21a",
   "metadata": {},
   "outputs": [
    {
     "name": "stdout",
     "output_type": "stream",
     "text": [
      "Count:  3 || "
     ]
    },
    {
     "ename": "TypeError",
     "evalue": "Magr.printInsCount() takes 0 positional arguments but 1 was given",
     "output_type": "error",
     "traceback": [
      "\u001b[0;31m---------------------------------------------------------------------------\u001b[0m",
      "\u001b[0;31mTypeError\u001b[0m                                 Traceback (most recent call last)",
      "Cell \u001b[0;32mIn[1], line 13\u001b[0m\n\u001b[1;32m     11\u001b[0m x, y, z \u001b[38;5;241m=\u001b[39m Magr(), Magr(), Magr()\n\u001b[1;32m     12\u001b[0m Magr\u001b[38;5;241m.\u001b[39mprintInsCount()\n\u001b[0;32m---> 13\u001b[0m z\u001b[38;5;241m.\u001b[39mprintInsCount()\n",
      "\u001b[0;31mTypeError\u001b[0m: Magr.printInsCount() takes 0 positional arguments but 1 was given"
     ]
    }
   ],
   "source": [
    "class Magr:\n",
    "    insCnt = 0\n",
    "\n",
    "    def __init__(self):\n",
    "        Magr.insCnt += 1\n",
    "\n",
    "    def printInsCount():\n",
    "        print(\"Count: \", Magr.insCnt, end=\" || \")\n",
    "\n",
    "\n",
    "x, y, z = Magr(), Magr(), Magr()\n",
    "Magr.printInsCount()\n",
    "z.printInsCount()"
   ]
  },
  {
   "cell_type": "markdown",
   "id": "af0c7e22",
   "metadata": {},
   "source": []
  }
 ],
 "metadata": {
  "kernelspec": {
   "display_name": "Python 3 (ipykernel)",
   "language": "python",
   "name": "python3"
  },
  "language_info": {
   "codemirror_mode": {
    "name": "ipython",
    "version": 3
   },
   "file_extension": ".py",
   "mimetype": "text/x-python",
   "name": "python",
   "nbconvert_exporter": "python",
   "pygments_lexer": "ipython3",
   "version": "3.11.5"
  }
 },
 "nbformat": 4,
 "nbformat_minor": 5
}
