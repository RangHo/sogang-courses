{
 "cells": [
  {
   "cell_type": "markdown",
   "id": "bf370a2b",
   "metadata": {},
   "source": [
    "# 문제 12. 람다 함수 고급\n",
    "\n",
    "`a = [1, 2, 3, 4, 5]` 원소의 합을 구하는 statement를 Lambda 함수를 이용하여 작성하시오."
   ]
  },
  {
   "cell_type": "code",
   "execution_count": 1,
   "id": "057d691e",
   "metadata": {},
   "outputs": [
    {
     "data": {
      "text/plain": [
       "15"
      ]
     },
     "execution_count": 1,
     "metadata": {},
     "output_type": "execute_result"
    }
   ],
   "source": [
    "from functools import reduce\n",
    "\n",
    "a = [1, 2, 3, 4, 5]\n",
    "reduce(lambda x, y: x + y, a)"
   ]
  },
  {
   "cell_type": "markdown",
   "id": "eac4af06",
   "metadata": {},
   "source": [
    "## 해설\n",
    "\n",
    "람다 함수를 이용하여 어떤 리스트의 총합을 구하는 방법에는 여러 가지가 있지만, 접기(fold) 연산을 활용하는 것이 가장 간편합니다.\n",
    "\n",
    "접기 연산은 어떤 리스트에 대하여 주어진 연산을 계속 실행하여 리스트 원소를 하나의 값으로 합치는 연산을 말합니다.\n",
    "예를 들어, 리스트 `[1, 2, 3, 4, 5]`에 대하여 `+` 연산으로 접으면...\n",
    "\n",
    "1. $ 1 + 2 = 3 $\n",
    "2. $ 3 + 3 = 6 $\n",
    "3. $ 6 + 4 = 10 $\n",
    "4. $ 10 + 5 = 15 $\n",
    "\n",
    "...이렇게 15라는 값으로 합칠 수 있습니다.\n",
    "\n",
    "Python에서는 `functools` 모듈의 `reduce(op, target)` 함수가 접기 연산을 구현하는데, `op`는 2개의 인자를 받아 하나의 값을 반환하는 함수여야 합니다.\n",
    "따라서, `functools.reduce(lambda x, y: x + y, a)` 형식으로 `a`의 원소의 총합을 구할 수 있습니다."
   ]
  }
 ],
 "metadata": {
  "kernelspec": {
   "display_name": "Python 3 (ipykernel)",
   "language": "python",
   "name": "python3"
  },
  "language_info": {
   "codemirror_mode": {
    "name": "ipython",
    "version": 3
   },
   "file_extension": ".py",
   "mimetype": "text/x-python",
   "name": "python",
   "nbconvert_exporter": "python",
   "pygments_lexer": "ipython3",
   "version": "3.11.5"
  }
 },
 "nbformat": 4,
 "nbformat_minor": 5
}
