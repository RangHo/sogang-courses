{
 "cells": [
  {
   "cell_type": "markdown",
   "id": "bf370a2b",
   "metadata": {},
   "source": [
    "# 문제 12. 람다 함수 고급\n",
    "\n",
    "`a = [1, 2, 3, 4, 5]` 원소의 합을 구하는 statement를 Lambda 함수를 이용하여 작성하시오."
   ]
  },
  {
   "cell_type": "code",
   "execution_count": 1,
   "id": "057d691e",
   "metadata": {},
   "outputs": [
    {
     "data": {
      "text/plain": [
       "15"
      ]
     },
     "execution_count": 1,
     "metadata": {},
     "output_type": "execute_result"
    }
   ],
   "source": [
    "from functools import reduce\n",
    "\n",
    "a = [1, 2, 3, 4, 5]\n",
    "reduce(lambda x, y: x + y, a)"
   ]
  },
  {
   "cell_type": "markdown",
   "id": "eac4af06",
   "metadata": {},
   "source": []
  }
 ],
 "metadata": {
  "kernelspec": {
   "display_name": "Python 3 (ipykernel)",
   "language": "python",
   "name": "python3"
  },
  "language_info": {
   "codemirror_mode": {
    "name": "ipython",
    "version": 3
   },
   "file_extension": ".py",
   "mimetype": "text/x-python",
   "name": "python",
   "nbconvert_exporter": "python",
   "pygments_lexer": "ipython3",
   "version": "3.11.5"
  }
 },
 "nbformat": 4,
 "nbformat_minor": 5
}
