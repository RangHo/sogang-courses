{
 "cells": [
  {
   "cell_type": "markdown",
   "id": "75ba5c23",
   "metadata": {},
   "source": [
    "# 문제 6. 제너레이터 함수 사용법\n",
    "\n",
    "아래와 같은 출력을 보이도록 script의 빈칸을 채우시오.\n",
    "\n",
    "```python\n",
    "def lineUp(data):\n",
    "    for index in range(_________):\n",
    "        yield data[index]\n",
    "\n",
    "\n",
    "for j in ___________________________:\n",
    "    print(j)\n",
    "\n",
    "\n",
    "# ---- Output ----\n",
    "# (0, 'S')\n",
    "# (1, 'o')\n",
    "# (2, 'g')\n",
    "# (3, 'a')\n",
    "# (4, 'n')\n",
    "# (5, 'g')\n",
    "```"
   ]
  },
  {
   "cell_type": "code",
   "execution_count": 1,
   "id": "967c5d04",
   "metadata": {},
   "outputs": [
    {
     "name": "stdout",
     "output_type": "stream",
     "text": [
      "(0, 'S')\n",
      "(1, 'o')\n",
      "(2, 'g')\n",
      "(3, 'a')\n",
      "(4, 'n')\n",
      "(5, 'g')\n"
     ]
    }
   ],
   "source": [
    "def lineUp(data):\n",
    "    for index in range(len(data)):\n",
    "        yield data[index]\n",
    "\n",
    "\n",
    "for j in enumerate(lineUp(\"Sogang\")):\n",
    "    print(j)"
   ]
  },
  {
   "cell_type": "markdown",
   "id": "acc49813",
   "metadata": {},
   "source": [
    "## 해설"
   ]
  }
 ],
 "metadata": {
  "kernelspec": {
   "display_name": "Python 3 (ipykernel)",
   "language": "python",
   "name": "python3"
  },
  "language_info": {
   "codemirror_mode": {
    "name": "ipython",
    "version": 3
   },
   "file_extension": ".py",
   "mimetype": "text/x-python",
   "name": "python",
   "nbconvert_exporter": "python",
   "pygments_lexer": "ipython3",
   "version": "3.11.5"
  }
 },
 "nbformat": 4,
 "nbformat_minor": 5
}
