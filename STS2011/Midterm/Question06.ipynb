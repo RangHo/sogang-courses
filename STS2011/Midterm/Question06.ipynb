{
 "cells": [
  {
   "cell_type": "markdown",
   "id": "75ba5c23",
   "metadata": {},
   "source": [
    "# 문제 6. 제너레이터 함수 사용법\n",
    "\n",
    "아래와 같은 출력을 보이도록 script의 빈칸을 채우시오.\n",
    "\n",
    "```python\n",
    "def lineUp(data):\n",
    "    for index in range(_________):\n",
    "        yield data[index]\n",
    "\n",
    "\n",
    "for j in ___________________________:\n",
    "    print(j)\n",
    "\n",
    "\n",
    "# ---- Output ----\n",
    "# (0, 'S')\n",
    "# (1, 'o')\n",
    "# (2, 'g')\n",
    "# (3, 'a')\n",
    "# (4, 'n')\n",
    "# (5, 'g')\n",
    "```"
   ]
  },
  {
   "cell_type": "code",
   "execution_count": 1,
   "id": "967c5d04",
   "metadata": {},
   "outputs": [
    {
     "name": "stdout",
     "output_type": "stream",
     "text": [
      "(0, 'S')\n",
      "(1, 'o')\n",
      "(2, 'g')\n",
      "(3, 'a')\n",
      "(4, 'n')\n",
      "(5, 'g')\n"
     ]
    }
   ],
   "source": [
    "def lineUp(data):\n",
    "    for index in range(len(data)):\n",
    "        yield data[index]\n",
    "\n",
    "\n",
    "for j in enumerate(lineUp(\"Sogang\")):\n",
    "    print(j)"
   ]
  },
  {
   "cell_type": "markdown",
   "id": "acc49813",
   "metadata": {},
   "source": [
    "## 해설\n",
    "\n",
    "위 정의에서, `lineUp`은 문자열 형식의 `data`를 인자로 받아 해당 문자열의 문자를 하나씩 생성하는 제너레이터입니다.\n",
    "따라서, 첫 빈칸에는 `data`의 모든 인덱스를 차례로 반환하는 함수가 들어가야 합니다.\n",
    "즉, `range(len(data))`가 정답입니다.\n",
    "\n",
    "아래 `for` 루프를 보면, `j`를 그대로 출력했을 때 인덱스와 문자의 2-튜플 형태로 나오는 것을 볼 수 있습니다.\n",
    "표준 라이브러리에서 해당 기능을 구현하는 제너레이터는 `enumerate` 제너레이터 함수로, 정답은 `enumerate(lineUp(\"Sogang\"))`이 됩니다."
   ]
  }
 ],
 "metadata": {
  "kernelspec": {
   "display_name": "Python 3 (ipykernel)",
   "language": "python",
   "name": "python3"
  },
  "language_info": {
   "codemirror_mode": {
    "name": "ipython",
    "version": 3
   },
   "file_extension": ".py",
   "mimetype": "text/x-python",
   "name": "python",
   "nbconvert_exporter": "python",
   "pygments_lexer": "ipython3",
   "version": "3.11.5"
  }
 },
 "nbformat": 4,
 "nbformat_minor": 5
}
