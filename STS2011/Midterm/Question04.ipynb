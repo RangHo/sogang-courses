{
 "cells": [
  {
   "cell_type": "markdown",
   "id": "b8a2fd9b",
   "metadata": {},
   "source": [
    "# 문제 4. 리스트 필터링\n",
    "\n",
    "다음 리스트 `a`에서 리스트 `b`를 구하는 아래 구문을 완성하시오.\n",
    "\n",
    "```python\n",
    "a = [1, 2, 3, 4, 5, 6, 7, 8, 9, 10, 11, 12, 13, 14, 15]\n",
    "b = [5, 10, 15]\n",
    "\n",
    "list(______(____________________, a))\n",
    "```"
   ]
  },
  {
   "cell_type": "code",
   "execution_count": 1,
   "id": "0a2b0c2c",
   "metadata": {},
   "outputs": [
    {
     "data": {
      "text/plain": [
       "[5, 10, 15]"
      ]
     },
     "execution_count": 1,
     "metadata": {},
     "output_type": "execute_result"
    }
   ],
   "source": [
    "a = [1, 2, 3, 4, 5, 6, 7, 8, 9, 10, 11, 12, 13, 14, 15]\n",
    "\n",
    "list(filter(lambda x: x % 5 == 0, a))"
   ]
  },
  {
   "cell_type": "markdown",
   "id": "000ff496",
   "metadata": {},
   "source": [
    "## 해설\n",
    "\n",
    "맨 처음 `list` 함수를 사용하는 것에서, 빈 칸에는 제너레이터 등을 사용하는 것이 적절하다고 유추할 수 있습니다.\n",
    "\n",
    "Python 표준 라이브러리에서 제공하는 제너레이터 중, `a`의 내용에서 5의 배수만을 골라내는 데 가장 적합한 것은 `filter` 함수입니다.\n",
    "`filter` 함수는 한 원소를 뽑을지 여부를 결정하는 함수와 원소를 고를 리스트를 인자로 받습니다.\n",
    "\n",
    "하지만 빈 칸 안에서는 `def` 키워드를 이용하여 함수를 선언할 수 없으므로, `lambda` 키워드를 사용해서 익명 함수를 만들어야 합니다."
   ]
  }
 ],
 "metadata": {
  "kernelspec": {
   "display_name": "Python 3 (ipykernel)",
   "language": "python",
   "name": "python3"
  },
  "language_info": {
   "codemirror_mode": {
    "name": "ipython",
    "version": 3
   },
   "file_extension": ".py",
   "mimetype": "text/x-python",
   "name": "python",
   "nbconvert_exporter": "python",
   "pygments_lexer": "ipython3",
   "version": "3.11.5"
  }
 },
 "nbformat": 4,
 "nbformat_minor": 5
}
