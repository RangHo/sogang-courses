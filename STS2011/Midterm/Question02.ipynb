{
 "cells": [
  {
   "cell_type": "markdown",
   "id": "78cf9c40",
   "metadata": {},
   "source": [
    "# 문제 2. 실행 결과 예측 (2)\n",
    "\n",
    "아래 script 실행 결과를 적으시오."
   ]
  },
  {
   "cell_type": "code",
   "execution_count": 1,
   "id": "064e2c3a",
   "metadata": {},
   "outputs": [
    {
     "name": "stdout",
     "output_type": "stream",
     "text": [
      "Class is created! Value = 10\n",
      "Class is deleted!\n",
      "Class is created! Value = 8\n"
     ]
    }
   ],
   "source": [
    "class MyClass:\n",
    "    def __init__(self, value):\n",
    "        self.Value = value\n",
    "        print(\"Class is created! Value =\", value)\n",
    "\n",
    "    def __del__(self):\n",
    "        print(\"Class is deleted!\")\n",
    "\n",
    "def choi():\n",
    "    d = MyClass(10)\n",
    "\n",
    "choi()\n",
    "d = MyClass(8)\n",
    "d_cp = d\n",
    "del d"
   ]
  },
  {
   "cell_type": "markdown",
   "id": "f8b71ac3",
   "metadata": {},
   "source": [
    "## 해설"
   ]
  }
 ],
 "metadata": {
  "kernelspec": {
   "display_name": "Python 3 (ipykernel)",
   "language": "python",
   "name": "python3"
  },
  "language_info": {
   "codemirror_mode": {
    "name": "ipython",
    "version": 3
   },
   "file_extension": ".py",
   "mimetype": "text/x-python",
   "name": "python",
   "nbconvert_exporter": "python",
   "pygments_lexer": "ipython3",
   "version": "3.11.5"
  }
 },
 "nbformat": 4,
 "nbformat_minor": 5
}
