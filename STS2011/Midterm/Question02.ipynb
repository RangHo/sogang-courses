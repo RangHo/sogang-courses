{
 "cells": [
  {
   "cell_type": "markdown",
   "id": "78cf9c40",
   "metadata": {},
   "source": [
    "# 문제 2. 실행 결과 예측 (2)\n",
    "\n",
    "아래 script 실행 결과를 적으시오."
   ]
  },
  {
   "cell_type": "code",
   "execution_count": 1,
   "id": "064e2c3a",
   "metadata": {},
   "outputs": [
    {
     "name": "stdout",
     "output_type": "stream",
     "text": [
      "Class is created! Value = 10\n",
      "Class is deleted!\n",
      "Class is created! Value = 8\n"
     ]
    }
   ],
   "source": [
    "class MyClass:\n",
    "    def __init__(self, value):\n",
    "        self.Value = value\n",
    "        print(\"Class is created! Value =\", value)\n",
    "\n",
    "    def __del__(self):\n",
    "        print(\"Class is deleted!\")\n",
    "\n",
    "def choi():\n",
    "    d = MyClass(10)\n",
    "\n",
    "choi()\n",
    "d = MyClass(8)\n",
    "d_cp = d\n",
    "del d"
   ]
  },
  {
   "cell_type": "markdown",
   "id": "f8b71ac3",
   "metadata": {},
   "source": [
    "## 해설\n",
    "\n",
    "이 문제는 클래스의 생성자, 소멸자 개념을 이해하고, Python의 레퍼런스 카운팅(reference counting)을 적용하는 문제입니다.\n",
    "\n",
    "먼저 `choi` 함수를 호출하면 함수 내부에서 `MyClass(10)`이 호출됩니다.\n",
    "이때 `MyClass.__init__` 생성자가 호출되고, 인자로 10이 주어졌으니 `Class is created! Value = 10`이 출력됩니다.\n",
    "이 인스턴스가 지역 변수 `d`에 저장된 뒤 함수가 끝나는데, 그러면 `d`에 저장된 인스턴스가 사라지며 `MyClass.__del__` 소멸자가 호출됩니다.\n",
    "\n",
    "그 다음, 전역 변수 `d`에 `MyClass(8)`을 호출해서 대입하는데, 이때 위에서와 마찬가지로 `Class is created! Value = 8`이 출력됩니다.\n",
    "이후, 전역 변수 `d_cp`에 `d`를 대입합니다.\n",
    "여기서 `MyClass(8)`을 가리키는 변수가 2개가 되므로 이 시점에서 `MyClass(8)`의 레퍼런스 카운트는 2입니다.\n",
    "이후 `del d`를 실행시키면 전역 변수 `d`가 사라지므로, `MyClass(8)`의 레퍼런스 카운트가 1로 줄어듭니다.\n",
    "아직 레퍼런스 카운트가 0이 아니므로, 스크립트가 끝날 때까지 `MyClass(8)`는 메모리에 상주하고 있게 됩니다.\n",
    "따라서, 마지막에는 `Class is deleted!`가 출력되지 않습니다."
   ]
  }
 ],
 "metadata": {
  "kernelspec": {
   "display_name": "Python 3 (ipykernel)",
   "language": "python",
   "name": "python3"
  },
  "language_info": {
   "codemirror_mode": {
    "name": "ipython",
    "version": 3
   },
   "file_extension": ".py",
   "mimetype": "text/x-python",
   "name": "python",
   "nbconvert_exporter": "python",
   "pygments_lexer": "ipython3",
   "version": "3.11.5"
  }
 },
 "nbformat": 4,
 "nbformat_minor": 5
}
