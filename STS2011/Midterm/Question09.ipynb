{
 "cells": [
  {
   "cell_type": "markdown",
   "id": "34c917e4",
   "metadata": {},
   "source": [
    "# 문제 9. 내장 메서드 사용법\n",
    "\n",
    "아래 코드에서 표시한 부분의 `if` 구문을 method를 사용해서 하나의 문장으로 바꾸시오.\n",
    "\n",
    "```python\n",
    "def char_freq(s):\n",
    "    \"\"\"\n",
    "    input: a string s\n",
    "    output: a dictionary consists of char: count\n",
    "    \"\"\"\n",
    "    D = {}\n",
    "    for c in s:\n",
    "        if c.isspace():\n",
    "            continue\n",
    "        c = c.lower()\n",
    "        # ---- begin ----\n",
    "        if c in D:\n",
    "            D[c] += 1\n",
    "        else:\n",
    "            D[c] = 1\n",
    "        # ----- end -----\n",
    "        return D\n",
    "```"
   ]
  },
  {
   "cell_type": "code",
   "execution_count": 1,
   "id": "7a2e875f",
   "metadata": {},
   "outputs": [],
   "source": [
    "def char_freq(s):\n",
    "    \"\"\"\n",
    "    input: a string s\n",
    "    output: a dictionary consists of char: count\n",
    "    \"\"\"\n",
    "    D = {}\n",
    "    for c in s:\n",
    "        if c.isspace():\n",
    "            continue\n",
    "        c = c.lower()\n",
    "        # ---- begin ----\n",
    "        D[c] = D.get(c, 0) + 1\n",
    "        # ----- end -----\n",
    "        return D"
   ]
  },
  {
   "cell_type": "markdown",
   "id": "0e3bf155",
   "metadata": {},
   "source": [
    "## 해설\n",
    "\n",
    "Python에서 사전에 요청한 키가 있으면 키에 대응되는 값을 반환하고, 키가 없으면 설정한 기본값을 반환하는 메서드는 `dict.get(key[, default_value])`입니다."
   ]
  }
 ],
 "metadata": {
  "kernelspec": {
   "display_name": "Python 3 (ipykernel)",
   "language": "python",
   "name": "python3"
  },
  "language_info": {
   "codemirror_mode": {
    "name": "ipython",
    "version": 3
   },
   "file_extension": ".py",
   "mimetype": "text/x-python",
   "name": "python",
   "nbconvert_exporter": "python",
   "pygments_lexer": "ipython3",
   "version": "3.11.5"
  }
 },
 "nbformat": 4,
 "nbformat_minor": 5
}
