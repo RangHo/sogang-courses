{
 "cells": [
  {
   "cell_type": "markdown",
   "id": "a023eb34",
   "metadata": {},
   "source": [
    "# 문제 5. 전역 vs. 클래스 vs. 인스턴스 변수\n",
    "\n",
    "아래 script를 실행시킨 결과를 적으시오."
   ]
  },
  {
   "cell_type": "code",
   "execution_count": 1,
   "id": "d7806971",
   "metadata": {},
   "outputs": [
    {
     "name": "stdout",
     "output_type": "stream",
     "text": [
      ":\n"
     ]
    }
   ],
   "source": [
    "str = \"NOT Class Member\"\n",
    "\n",
    "\n",
    "class GString:\n",
    "    str = \":\"\n",
    "\n",
    "    def Set(self, msg):\n",
    "        self.str = msg\n",
    "\n",
    "    def Print(self):\n",
    "        print(self.str)\n",
    "\n",
    "\n",
    "g = GString()\n",
    "g.Print()"
   ]
  },
  {
   "cell_type": "markdown",
   "id": "b589244f",
   "metadata": {},
   "source": [
    "## 해설"
   ]
  }
 ],
 "metadata": {
  "kernelspec": {
   "display_name": "Python 3 (ipykernel)",
   "language": "python",
   "name": "python3"
  },
  "language_info": {
   "codemirror_mode": {
    "name": "ipython",
    "version": 3
   },
   "file_extension": ".py",
   "mimetype": "text/x-python",
   "name": "python",
   "nbconvert_exporter": "python",
   "pygments_lexer": "ipython3",
   "version": "3.11.5"
  }
 },
 "nbformat": 4,
 "nbformat_minor": 5
}
