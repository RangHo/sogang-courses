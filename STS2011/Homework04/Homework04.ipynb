{
 "cells": [
  {
   "cell_type": "markdown",
   "id": "b0e31265",
   "metadata": {},
   "source": [
    "# 과제 4\n",
    "\n",
    "입력받은 문장을 구성하는 각 문자의 개수를 구하고, 대문자는 소문자로, 소문자는 대문자로 변환하여 출력하는 프로그램을 작성하시오.\n",
    "\n",
    "- 문자열 하나를 처리한 뒤, 다음 입력을 받는다.\n",
    "- 입력받은 문자열이 `\"STOP\"`이면 `Bye`를 출력하고 종료한다.\n",
    "- 이하 두 개의 함수를 작성하여 해결한다.\n",
    "  1. 문자열에 포함된 문자를 세는 함수\n",
    "  1. 대소문자를 변환하는 함수\n",
    "\n",
    "## 입력\n",
    "\n",
    "셀을 실행하면 문자열 하나를 입력받는다.\n",
    "\n",
    "## 출력\n",
    "\n",
    "첫째 줄에 `(<글자> : <횟수>)` 형식으로 각 글자가 문자열에서 등장하는 횟수를 출력한다.\n",
    "\n",
    "둘째 줄에 대문자-소문자 변환이 완료된 문자열을 출력한다."
   ]
  },
  {
   "cell_type": "code",
   "execution_count": 1,
   "id": "eb9ac9ec",
   "metadata": {},
   "outputs": [],
   "source": [
    "def count_letters(haystack: str) -> dict[str, int]:\n",
    "    \"\"\"Count the occurances of each letters in a string.\n",
    "    \n",
    "    The counting is case-insensitive, and everything is treated as lowercase.\n",
    "    \n",
    "    :param haystack: String to count the letters.\n",
    "    :return: Dictionary with the letter as key and the occurance as value.\n",
    "    \"\"\"\n",
    "    result = {}\n",
    "    for c in haystack.lower():\n",
    "        result[c] = result[c] + 1 if c in result else 1\n",
    "\n",
    "    return result"
   ]
  },
  {
   "cell_type": "code",
   "execution_count": 2,
   "id": "bf5626ff",
   "metadata": {},
   "outputs": [],
   "source": [
    "def swap_cases(target: str) -> str:\n",
    "    \"\"\"Swap the cases of letters in the target string.\n",
    "    \n",
    "    :param target: String to swap cases.\n",
    "    :return: A new string instance with the cases swapped.\n",
    "    \"\"\"\n",
    "    # In standard UTF-8, difference between uppercase letters and their\n",
    "    # corresponding lowercase letters are 32\n",
    "    # => XOR operation can be used to flip the 6th bit (0b00100000)\n",
    "    result = \"\"\n",
    "    for c in target:\n",
    "        result += chr(ord(c) ^ 32) if c.isalpha() else c\n",
    "\n",
    "    return result"
   ]
  },
  {
   "cell_type": "code",
   "execution_count": 3,
   "id": "1960cf64",
   "metadata": {},
   "outputs": [
    {
     "name": "stdout",
     "output_type": "stream",
     "text": [
      "Input: Sogang\n",
      "(s : 1) (o : 1) (g : 2) (a : 1) (n : 1) \n",
      "sOGANG\n",
      "Input: SOGANG\n",
      "(s : 1) (o : 1) (g : 2) (a : 1) (n : 1) \n",
      "sogang\n",
      "Input: Univ\n",
      "(u : 1) (n : 1) (i : 1) (v : 1) \n",
      "uNIV\n",
      "Input: Tel\n",
      "(t : 1) (e : 1) (l : 1) \n",
      "tEL\n",
      "Input: STOP\n",
      "Bye\n"
     ]
    }
   ],
   "source": [
    "while True:\n",
    "    target = input(\"Input: \")\n",
    "    \n",
    "    # If \"STOP\", bail\n",
    "    if target == \"STOP\":\n",
    "        print(\"Bye\")\n",
    "        break\n",
    "    \n",
    "    letters = count_letters(target)\n",
    "    for k, v in letters.items():\n",
    "        print(f\"({k} : {v})\", end=\" \")\n",
    "    \n",
    "    print() # line break\n",
    "    \n",
    "    swapped = swap_cases(target)\n",
    "    print(swapped)"
   ]
  }
 ],
 "metadata": {
  "kernelspec": {
   "display_name": "Python 3 (ipykernel)",
   "language": "python",
   "name": "python3"
  },
  "language_info": {
   "codemirror_mode": {
    "name": "ipython",
    "version": 3
   },
   "file_extension": ".py",
   "mimetype": "text/x-python",
   "name": "python",
   "nbconvert_exporter": "python",
   "pygments_lexer": "ipython3",
   "version": "3.11.5"
  }
 },
 "nbformat": 4,
 "nbformat_minor": 5
}
