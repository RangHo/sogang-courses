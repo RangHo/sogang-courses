{
 "cells": [
  {
   "cell_type": "markdown",
   "id": "8b81d7de",
   "metadata": {},
   "source": [
    "# 실습과제 4\n",
    "\n",
    "함수 실행이 언제 시작하고 끝나는지 출력하는 decorator를 작성하시오.\n",
    "\n",
    "## 예시\n",
    "\n",
    "```python\n",
    "@verbose\n",
    "def greet(name):\n",
    "    print(f'Hello, {name}!\")\n",
    "\n",
    "greet(\"world\")\n",
    "\n",
    "# ---- Output ----\n",
    "# Initializing verbose\n",
    "# Program start\n",
    "#\n",
    "# Begin greet\n",
    "# Hello, world!\n",
    "# End greet\n",
    "```"
   ]
  },
  {
   "cell_type": "code",
   "execution_count": 1,
   "id": "c7a0ede9",
   "metadata": {},
   "outputs": [],
   "source": [
    "# Verbose decorator using function\n",
    "def verbose_function(f):\n",
    "    print(\"Initializing verbose (function version)\")\n",
    "    \n",
    "    def wrapper(*args, **kwargs):\n",
    "        print(f\"Begin {f.__name__}\")\n",
    "        result = f(*args, **kwargs)\n",
    "        print(f\"End {f.__name__}\")\n",
    "        return result\n",
    "    \n",
    "    return wrapper"
   ]
  },
  {
   "cell_type": "code",
   "execution_count": 2,
   "id": "26e95bcf",
   "metadata": {},
   "outputs": [],
   "source": [
    "# Verbose decorator using class\n",
    "class VerboseClass:\n",
    "    def __init__(self, f):\n",
    "        print(\"Initializing verbose (class version)\")\n",
    "        self.f = f\n",
    "    \n",
    "    def __call__(self, *args, **kwargs):\n",
    "        print(f\"Begin {self.f.__name__}\")\n",
    "        result = self.f(*args, **kwargs)\n",
    "        print(f\"End {self.f.__name__}\")\n",
    "        return result"
   ]
  },
  {
   "cell_type": "code",
   "execution_count": 3,
   "id": "141c5455",
   "metadata": {},
   "outputs": [
    {
     "name": "stdout",
     "output_type": "stream",
     "text": [
      "Initializing verbose (function version)\n",
      "Program start\n",
      "\n",
      "Begin my_function\n",
      "hello, Mickey!\n",
      "End my_function\n",
      "\n",
      "Begin my_function\n",
      "hello, Minnie!\n",
      "End my_function\n",
      "\n",
      "Begin my_function\n",
      "hello, Donald!\n",
      "End my_function\n"
     ]
    }
   ],
   "source": [
    "# Select which verbose implementation to use\n",
    "verbose = verbose_function # or `VerboseClass`\n",
    "\n",
    "@verbose\n",
    "def my_function(name):\n",
    "    print(f\"hello, {name}!\")\n",
    "\n",
    "\n",
    "print(\"Program start\")\n",
    "print()\n",
    "my_function(\"Mickey\")\n",
    "print()\n",
    "my_function(\"Minnie\")\n",
    "print()\n",
    "my_function(\"Donald\")"
   ]
  },
  {
   "cell_type": "code",
   "execution_count": null,
   "id": "846130d8",
   "metadata": {},
   "outputs": [],
   "source": []
  }
 ],
 "metadata": {
  "kernelspec": {
   "display_name": "Python 3 (ipykernel)",
   "language": "python",
   "name": "python3"
  },
  "language_info": {
   "codemirror_mode": {
    "name": "ipython",
    "version": 3
   },
   "file_extension": ".py",
   "mimetype": "text/x-python",
   "name": "python",
   "nbconvert_exporter": "python",
   "pygments_lexer": "ipython3",
   "version": "3.11.5"
  }
 },
 "nbformat": 4,
 "nbformat_minor": 5
}
