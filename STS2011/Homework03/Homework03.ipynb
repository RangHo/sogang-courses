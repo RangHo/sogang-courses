{
 "cells": [
  {
   "cell_type": "markdown",
   "id": "9612bdc9",
   "metadata": {},
   "source": [
    "# 과제 3\n",
    "\n",
    "입력받은 수의 피보나치 수를 구하는 파이썬 프로그램 `fibonacci.py`를 magic command를 이용해서 만들어 실행시키시오.\n",
    "\n",
    "파이썬 프로그램 `fibonacci.py`를 `import`하여 해결하시오.\n",
    "\n",
    "## 입력\n",
    "\n",
    "`%run fibonacci.py`를 실행하면 Jupyter 인터페이스 내에서 임의의 정수를 입력받는다.\n",
    "\n",
    "`fibonacci.py`를 `import`하면 아무 입력도 받지 않는다.\n",
    "\n",
    "## 출력\n",
    "\n",
    "`%run fibonacci.py`를 실행하면 주어진 수에 해당하는 피보나치 수를 출력한다.\n",
    "\n",
    "`fibonacci.py`를 `import`하면 셀에서 지정한 피보나치 수를 출력한다.\n",
    "\n",
    "## 예시\n",
    "\n",
    "Jupyter 노트북에서 7을 입력하면 13을 출력한다."
   ]
  },
  {
   "cell_type": "code",
   "execution_count": 1,
   "id": "7d7fd3da",
   "metadata": {},
   "outputs": [
    {
     "name": "stdout",
     "output_type": "stream",
     "text": [
      "Writing fibonacci.py\n"
     ]
    }
   ],
   "source": [
    "%%writefile fibonacci.py\n",
    "\n",
    "def fibo(n: int) -> int:\n",
    "    \"\"\"Find the nth Fibonacci number.\n",
    "    \n",
    "    :param n: The index in the Fibonacci sequence.\n",
    "    :return: The nth entry in the Fibonacci sequence.\n",
    "    \"\"\"\n",
    "    \n",
    "    # Negative indices are invalid\n",
    "    if n < 0:\n",
    "        return None\n",
    "    \n",
    "    # fibo(0) and fibo(1) returns themselves\n",
    "    if n == 0 or n == 1:\n",
    "        return n\n",
    "    \n",
    "    # From fibo(2) and onwards, calculate recursively\n",
    "    return fibo(n - 2) + fibo(n - 1)\n",
    "\n",
    "\n",
    "if __name__ == '__main__':\n",
    "    n = int(input(\"input: \"))\n",
    "    print(fibo(n))"
   ]
  },
  {
   "cell_type": "code",
   "execution_count": 2,
   "id": "65353f2a",
   "metadata": {},
   "outputs": [
    {
     "name": "stdout",
     "output_type": "stream",
     "text": [
      "input: 7\n",
      "13\n"
     ]
    }
   ],
   "source": [
    "%run fibonacci.py"
   ]
  },
  {
   "cell_type": "code",
   "execution_count": 3,
   "id": "7fb4dad3",
   "metadata": {},
   "outputs": [
    {
     "data": {
      "text/plain": [
       "13"
      ]
     },
     "execution_count": 3,
     "metadata": {},
     "output_type": "execute_result"
    }
   ],
   "source": [
    "import fibonacci\n",
    "fibonacci.fibo(7)"
   ]
  }
 ],
 "metadata": {
  "kernelspec": {
   "display_name": "Python 3 (ipykernel)",
   "language": "python",
   "name": "python3"
  },
  "language_info": {
   "codemirror_mode": {
    "name": "ipython",
    "version": 3
   },
   "file_extension": ".py",
   "mimetype": "text/x-python",
   "name": "python",
   "nbconvert_exporter": "python",
   "pygments_lexer": "ipython3",
   "version": "3.11.5"
  }
 },
 "nbformat": 4,
 "nbformat_minor": 5
}
